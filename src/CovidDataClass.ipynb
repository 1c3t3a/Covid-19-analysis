{
 "cells": [
  {
   "cell_type": "markdown",
   "metadata": {},
   "source": [
    "Imports section. You basically neet to install the JupyterLab, MatPlotLib and Pandas libraris. \n",
    "\n",
    "**These are the pip commads to install the packes:**<br>\n",
    "pip install jupyterlab<br>\n",
    "pip install pandas<br>\n",
    "pip install matplolib<br>\n",
    "pip install ipywidgets<br>\n",
    "\n",
    "In order to get ipywidgets working with jupyter notebook please run the following command:<br>\n",
    "jupyter nbextension enable --py --sys-prefix widgetsnbextension\n",
    "\n",
    "If you're using jupyter lab you also have to register the extension:<br>\n",
    "jupyter labextension install @jupyter-widgets/jupyterlab-manager\n",
    "\n",
    "Referring to: [https://github.com/jupyter-widgets/ipywidgets/blob/master/README.md](https://github.com/jupyter-widgets/ipywidgets/blob/master/README.md)\n"
   ]
  },
  {
   "cell_type": "code",
   "execution_count": 34,
   "metadata": {},
   "outputs": [],
   "source": [
    "import datetime\n",
    "import math\n",
    "import json\n",
    "from json import load, dumps\n",
    "import matplotlib.pyplot as plt\n",
    "import matplotlib.dates as mdates\n",
    "import pandas as pd\n",
    "from pandas.io.json import json_normalize \n",
    "from ipywidgets import widgets\n",
    "from IPython.display import display\n",
    "import re\n"
   ]
  },
  {
   "cell_type": "markdown",
   "metadata": {},
   "source": [
    "\n",
    "And now the class. The constructor takes a string containing the full filenname of a JSON database you can down load from the WHO website:\n",
    "\n",
    "https://www.ecdc.europa.eu/en/publications-data/download-todays-data-geographic-distribution-covid-19-cases-worldwide\n",
    "\n",
    "The database will be loaded and kept as a private member. To retrieve the data for an indvidual country you can use the public methods **GetCountryDataByGeoID** or **GetCountryDataByCountryName**. Refer to the JSON file for a list of available GeoIDs and CountryNames. Both methods will return a list of the following fields as a JSON:\n",
    "\n",
    "**Date** The date of the data\n",
    "**Country** The name of the country\n",
    "**GeoID** The GeoID of the country such as FR for France or DE for Germany\n",
    "\n",
    "**Cases** The number of cases on that day\n",
    "**CumultativeCases** The accumulated number of cases since the 31.12.2019\n",
    "**Quotient** The number of cases on the day devided by the number of cases of the previous day\n",
    "**DoublingTime** The number of days in which the number of cases will be doubled\n",
    "\n",
    "**Deaths** The number of deaths on the date\n",
    "**CumultativeDeaths** The accumulated number of deaths since the 31.12.2019 \n"
   ]
  },
  {
   "cell_type": "code",
   "execution_count": 35,
   "metadata": {},
   "outputs": [],
   "source": [
    "# a class\n",
    "class CovidCases:\n",
    "    # get a subset of fields\n",
    "    def __GetFields (self, record):\n",
    "        return {\n",
    "            \"Country\": record[\"countriesAndTerritories\"],\n",
    "            \"GeoID\": record[\"geoId\"],\n",
    "            \"Date\": record[\"dateRep\"],\n",
    "            \"Cases\": record[\"cases\"],\n",
    "            \"Deaths\": record[\"deaths\"]\n",
    "        }\n",
    "\n",
    "    # constructor\n",
    "    def __init__(self, filename):\n",
    "        # the database can be downloaded as a JSON from https://www.ecdc.europa.eu/en/publications-data/download-todays-data-geographic-distribution-covid-19-cases-worldwide\n",
    "        # open the file and read the 'records'  \n",
    "        with open(filename) as f:\n",
    "            self.__db = load(f)[\"records\"]\n",
    "        # map the subset\n",
    "        #__db = [GetFields (r) for r in db]\n",
    "        self.__db = list (map(lambda x : self.__GetFields(x), self.__db))\n",
    "        # dump the database\n",
    "        #print(dumps(self.__db))\n",
    "        \n",
    "    # get all records \n",
    "    def __GetAllRecords(self, f):\n",
    "        return lambda y: all([x(y) for x in f])\n",
    "\n",
    "    # add some specific  fields\n",
    "    def __AddExtraFields(self, subset):\n",
    "        # the length of the list\n",
    "        n = len(subset)\n",
    "        # add a col to the first element having the number of cases\n",
    "        subset[0].update({'CumultativeCases': int(subset[0]['Cases'])})\n",
    "        subset[0].update({'CumultativeDeaths': int(subset[0]['Deaths'])})\n",
    "        # loop through the list starting at index 1\n",
    "        for x in range (1, n - 1):\n",
    "            # the cumultative ncases of day n-1\n",
    "            dayNm1Cum = int(subset[x-1]['CumultativeCases'])\n",
    "            # the cases of day n\n",
    "            dayN = int(subset[x]['Cases'])\n",
    "            # the cumultative cases of day n\n",
    "            dayNCum = dayNm1Cum + dayN\n",
    "            subset[x].update({'CumultativeCases':  dayNCum})\n",
    "            # the quuotient of day(n) / day(n-1)\n",
    "            if dayNm1Cum != 0:\n",
    "                subset[x].update({'Quotient':  dayNCum / dayNm1Cum})\n",
    "            else:\n",
    "                subset[x].update({'Quotient':  math.nan})\n",
    "            quotient = float(subset[x]['Quotient'])\n",
    "            # the doubling time in days\n",
    "            if quotient != 1.0 and quotient != math.nan:\n",
    "                subset[x].update({'DoublingTime':  math.log(2) / math.log(quotient)})\n",
    "            else:\n",
    "                subset[x].update({'DoublingTime':  math.nan})\n",
    "            # the cumultative deaths of day n-1\n",
    "            dayNm1Cum = int(subset[x-1]['CumultativeDeaths'])\n",
    "            # the deatha of day n\n",
    "            dayN = int(subset[x]['Deaths'])\n",
    "            # the cumultative deaths of day n\n",
    "            dayNCum = dayNm1Cum + dayN\n",
    "            subset[x].update({'CumultativeDeaths':  dayNCum})    \n",
    "            #print(subset[x])\n",
    "        return subset\n",
    "\n",
    "    # return the list of cases by geoID\n",
    "    def GetCountryDataByGeoID (self, geoID):\n",
    "        # specify the filter\n",
    "        filters = []\n",
    "        filters.append(lambda r: r[\"GeoID\"] == geoID)\n",
    "        # apply the filter\n",
    "        subset = list(filter( self.__GetAllRecords(filters), self.__db)) \n",
    "        # reverse the list (1st date on top of the list)\n",
    "        subset.reverse()\n",
    "        subset = self.__AddExtraFields(subset)\n",
    "        return subset\n",
    "\n",
    "    # return the list of cases by country name\n",
    "    def GetCountryDataByCountryName (self, countryName):\n",
    "        # specify the filter\n",
    "        filters = []\n",
    "        filters.append(lambda r: r[\"countriesAndTerritories\"] == countryName)\n",
    "        # apply the filter\n",
    "        subset = list(filter( self.__GetAllRecords(filters), self.__db)) \n",
    "        # reverse the list (1st date on top of the list)\n",
    "        subset.reverse()\n",
    "        subset = self.__AddExtraFields(subset)\n",
    "        return subset\n"
   ]
  },
  {
   "cell_type": "markdown",
   "metadata": {},
   "source": [
    "\n",
    "Using the class is pretty simple. Create an instance of the class using the full path to the filename and get the data for a specific country.\n"
   ]
  },
  {
   "cell_type": "code",
   "execution_count": 36,
   "metadata": {},
   "outputs": [],
   "source": [
    "# create an instance\n",
    "covidCases = CovidCases('../data/db.json')\n",
    "\n",
    "# modify the country code if required\n",
    "countryCode = \"DE\"\n",
    "# get cases\n",
    "dataDE = covidCases.GetCountryDataByGeoID(countryCode)\n",
    "\n",
    "# modify the country code if required\n",
    "countryCode = \"FR\"\n",
    "# get cases\n",
    "dataFR = covidCases.GetCountryDataByGeoID(countryCode)\n"
   ]
  },
  {
   "cell_type": "markdown",
   "metadata": {},
   "source": [
    "\n",
    "Next we want to visualise the data in several diagrams. In a first step we need to concatinate the data fields of different countries that we want to visualise. Be aware of a proper date format in pandas. Next is to select the field that we want to display, indexed by the date having the countriy name as a column.\n"
   ]
  },
  {
   "cell_type": "code",
   "execution_count": 37,
   "metadata": {},
   "outputs": [
    {
     "data": {
      "image/png": "[encoded data removed]",
      "text/plain": [
       "<Figure size 864x1152 with 2 Axes>"
      ]
     },
     "metadata": {
      "needs_background": "light"
     },
     "output_type": "display_data"
    }
   ],
   "source": [
    "# convert results to a panda dataframes\n",
    "dfDE = pd.DataFrame(dataDE)\n",
    "dfFR = pd.DataFrame(dataFR)\n",
    "# concatinate both lists\n",
    "df = pd.concat([dfDE, dfFR])\n",
    "# ensure the type of the 'Date' field\n",
    "df['Date'] = pd.to_datetime(df['Date'], format = '%d/%m/%Y')\n",
    "\n",
    "# create a multi-index pivot table\n",
    "mi = df.pivot_table(values = 'CumultativeCases', index = 'Date', columns = 'Country')\n",
    "# print it\n",
    "#print(mi)\n",
    "\n",
    "# plot with various axes scales\n",
    "fig, ax = plt.subplots(2, 1, figsize = (12,16))\n",
    "for axis in ax:\n",
    "    axis.xaxis_date()\n",
    "\n",
    "# linear commulated cases\n",
    "mi.plot(ax = ax[0])\n",
    "ax[0].set_yscale('linear')\n",
    "ax[0].set_title('Cummulated cases since 31.12.2019')\n",
    "ax[0].grid(True)\n",
    "\n",
    "# log commulated cases\n",
    "mi.plot(ax = ax[1])\n",
    "ax[1].set_yscale('log')\n",
    "ax[1].set_title('Logarithmic cummulated cases since 31.12.2019')\n",
    "ax[1].grid(True)\n",
    "\n",
    "plt.show()\n"
   ]
  },
  {
   "cell_type": "markdown",
   "metadata": {},
   "source": [
    "\n",
    "The following should be a bargraph (will create an issue):\n",
    "    "
   ]
  },
  {
   "cell_type": "code",
   "execution_count": null,
   "metadata": {},
   "outputs": [],
   "source": [
    "# ensure that cases are of a numeric type\n",
    "df['Cases'] = pd.to_numeric(df['Cases'])\n",
    "# create a multi-index pivot table\n",
    "mi = df.pivot_table(values = 'Cases', index = 'Date', columns = 'Country')\n",
    "# print it\n",
    "# print(mi)\n",
    "\n",
    "# linear commulated cases\n",
    "# TODO: Lookup why ax.xaxis_date doesn't work\n",
    "fig, ax = plt.subplots(figsize = (30,8))\n",
    "#ax.xaxis_date()\n",
    "ax.xaxis.set_major_formatter(mdates.DateFormatter('%Y-%m-%d'))\n",
    "mi.plot(ax=ax, kind='bar')\n",
    "ax.set_yscale('linear')\n",
    "ax.set_title('Daily cases since 31.12.2019')\n",
    "ax.grid(True)\n"
   ]
  },
  {
   "cell_type": "code",
   "execution_count": null,
   "metadata": {},
   "outputs": [],
   "source": [
    "# create a multi-index pivot table\n",
    "mi = df.pivot_table(values = 'CumultativeDeaths', index = 'Date', columns = 'Country')\n",
    "# print it\n",
    "#print(mi)\n",
    "\n",
    "# plot with various axes scales\n",
    "fig, ax = plt.subplots(2, 1, figsize = (12,16))\n",
    "for axis in ax:\n",
    "    axis.xaxis_date()\n",
    "\n",
    "# linear commulated deaths\n",
    "mi.plot(ax = ax[0])\n",
    "ax[0].set_yscale('linear')\n",
    "ax[0].set_title('Cummulated deaths since 31.12.2019')\n",
    "ax[0].grid(True)\n",
    "\n",
    "# log commulated deaths\n",
    "mi.plot(ax = ax[1])\n",
    "ax[1].set_yscale('log')\n",
    "ax[1].set_title('Logarithmic cummulated deaths since 31.12.2019')\n",
    "ax[1].grid(True)\n"
   ]
  },
  {
   "cell_type": "markdown",
   "metadata": {},
   "source": [
    "Finally the doubling time:\n",
    "    "
   ]
  },
  {
   "cell_type": "code",
   "execution_count": null,
   "metadata": {},
   "outputs": [],
   "source": [
    "# ensure that cases are of a numeric type\n",
    "df['DoublingTime'] = pd.to_numeric(df['DoublingTime'])\n",
    "# create a multi-index pivot table\n",
    "mi = df.pivot_table(values = 'DoublingTime', index = 'Date', columns = 'Country')\n",
    "# print it\n",
    "#print(mi)\n",
    "\n",
    "# linear commulated cases\n",
    "fig, ax = plt.subplots(figsize = (12,8))\n",
    "ax.xaxis_date()\n",
    "mi.plot(ax = ax)\n",
    "ax.set_yscale('linear')\n",
    "ax.set_title('Daily doubling time in days since 31.12.2019')\n",
    "ax.grid(True)\n"
   ]
  },
  {
   "cell_type": "code",
   "execution_count": null,
   "metadata": {},
   "outputs": [],
   "source": [
    "text = widgets.Text(placeholder='Please enter country codes')\n",
    "display(text)\n",
    "gid = \"Test\"\n",
    "def read_GeoID(text):\n",
    "    geoID = re.split(r\",\\s*\", text.value)\n",
    "    \n",
    "\n",
    "text.on_submit(read_GeoID)"
   ]
  },
  {
   "cell_type": "code",
   "execution_count": null,
   "metadata": {},
   "outputs": [],
   "source": []
  },
  {
   "cell_type": "code",
   "execution_count": null,
   "metadata": {},
   "outputs": [],
   "source": []
  }
 ],
 "metadata": {
  "kernelspec": {
   "display_name": "Python 3",
   "language": "python",
   "name": "python3"
  },
  "language_info": {
   "codemirror_mode": {
    "name": "ipython",
    "version": 3
   },
   "file_extension": ".py",
   "mimetype": "text/x-python",
   "name": "python",
   "nbconvert_exporter": "python",
   "pygments_lexer": "ipython3",
   "version": "3.7.7"
  }
 },
 "nbformat": 4,
 "nbformat_minor": 4
}
